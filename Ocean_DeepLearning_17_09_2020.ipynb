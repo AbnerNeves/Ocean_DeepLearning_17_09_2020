{
  "nbformat": 4,
  "nbformat_minor": 0,
  "metadata": {
    "colab": {
      "name": "Ocean_DeepLearning_17_09_2020.ipynb",
      "provenance": [],
      "collapsed_sections": []
    },
    "kernelspec": {
      "name": "python3",
      "display_name": "Python 3"
    }
  },
  "cells": [
    {
      "cell_type": "code",
      "metadata": {
        "id": "lIc7Ij1iLENL",
        "colab_type": "code",
        "colab": {}
      },
      "source": [
        "import keras\n",
        "from keras.datasets import mnist\n",
        "from tensorflow.python.keras import Sequential\n",
        "from tensorflow.python.keras.layers import Dense, Dropout\n",
        "from tensorflow.compat.v1.keras.optimizers import RMSprop"
      ],
      "execution_count": 1,
      "outputs": []
    },
    {
      "cell_type": "code",
      "metadata": {
        "id": "71wkd7DfMP3l",
        "colab_type": "code",
        "colab": {}
      },
      "source": [
        "# Carregando os dados de treino e teste\n",
        "\n",
        "(x_treino, y_treino), (x_teste, y_teste) = mnist.load_data()"
      ],
      "execution_count": 2,
      "outputs": []
    },
    {
      "cell_type": "code",
      "metadata": {
        "id": "J_NcDyIrOGQP",
        "colab_type": "code",
        "colab": {
          "base_uri": "https://localhost:8080/",
          "height": 1000
        },
        "outputId": "9c6ef714-cbb4-49f4-f1c5-1b341dc73be0"
      },
      "source": [
        "# Quantas imagens eu tenho para treino?\n",
        "print(\"Quantidade de imagens para treino:\", len(x_treino)) # 60000\n",
        "\n",
        "# Quantas imagens eu tenho para teste?\n",
        "print(\"Quantidade de imagens para teste:\", len(x_teste)) # 10000\n",
        "\n",
        "# Qual o tipo de x_treino?\n",
        "print(\"Tipo do x_treino:\", type(x_treino))\n",
        "\n",
        "# Pegando a primeira imagem\n",
        "primeira_imagem = x_treino[0]\n",
        "representacao_primeira_imagem = y_treino[0]\n",
        "\n",
        "print(\"O que a imagem 0 representa:\", representacao_primeira_imagem)\n",
        "\n",
        "# Qual o formato da primeira da primeira imagem?\n",
        "print(\"Formato da primeira imagem:\", primeira_imagem.shape, type(primeira_imagem.shape))\n",
        "\n",
        "print(primeira_imagem)"
      ],
      "execution_count": 3,
      "outputs": [
        {
          "output_type": "stream",
          "text": [
            "Quantidade de imagens para treino: 60000\n",
            "Quantidade de imagens para teste: 10000\n",
            "Tipo do x_treino: <class 'numpy.ndarray'>\n",
            "O que a imagem 0 representa: 5\n",
            "Formato da primeira imagem: (28, 28) <class 'tuple'>\n",
            "[[  0   0   0   0   0   0   0   0   0   0   0   0   0   0   0   0   0   0\n",
            "    0   0   0   0   0   0   0   0   0   0]\n",
            " [  0   0   0   0   0   0   0   0   0   0   0   0   0   0   0   0   0   0\n",
            "    0   0   0   0   0   0   0   0   0   0]\n",
            " [  0   0   0   0   0   0   0   0   0   0   0   0   0   0   0   0   0   0\n",
            "    0   0   0   0   0   0   0   0   0   0]\n",
            " [  0   0   0   0   0   0   0   0   0   0   0   0   0   0   0   0   0   0\n",
            "    0   0   0   0   0   0   0   0   0   0]\n",
            " [  0   0   0   0   0   0   0   0   0   0   0   0   0   0   0   0   0   0\n",
            "    0   0   0   0   0   0   0   0   0   0]\n",
            " [  0   0   0   0   0   0   0   0   0   0   0   0   3  18  18  18 126 136\n",
            "  175  26 166 255 247 127   0   0   0   0]\n",
            " [  0   0   0   0   0   0   0   0  30  36  94 154 170 253 253 253 253 253\n",
            "  225 172 253 242 195  64   0   0   0   0]\n",
            " [  0   0   0   0   0   0   0  49 238 253 253 253 253 253 253 253 253 251\n",
            "   93  82  82  56  39   0   0   0   0   0]\n",
            " [  0   0   0   0   0   0   0  18 219 253 253 253 253 253 198 182 247 241\n",
            "    0   0   0   0   0   0   0   0   0   0]\n",
            " [  0   0   0   0   0   0   0   0  80 156 107 253 253 205  11   0  43 154\n",
            "    0   0   0   0   0   0   0   0   0   0]\n",
            " [  0   0   0   0   0   0   0   0   0  14   1 154 253  90   0   0   0   0\n",
            "    0   0   0   0   0   0   0   0   0   0]\n",
            " [  0   0   0   0   0   0   0   0   0   0   0 139 253 190   2   0   0   0\n",
            "    0   0   0   0   0   0   0   0   0   0]\n",
            " [  0   0   0   0   0   0   0   0   0   0   0  11 190 253  70   0   0   0\n",
            "    0   0   0   0   0   0   0   0   0   0]\n",
            " [  0   0   0   0   0   0   0   0   0   0   0   0  35 241 225 160 108   1\n",
            "    0   0   0   0   0   0   0   0   0   0]\n",
            " [  0   0   0   0   0   0   0   0   0   0   0   0   0  81 240 253 253 119\n",
            "   25   0   0   0   0   0   0   0   0   0]\n",
            " [  0   0   0   0   0   0   0   0   0   0   0   0   0   0  45 186 253 253\n",
            "  150  27   0   0   0   0   0   0   0   0]\n",
            " [  0   0   0   0   0   0   0   0   0   0   0   0   0   0   0  16  93 252\n",
            "  253 187   0   0   0   0   0   0   0   0]\n",
            " [  0   0   0   0   0   0   0   0   0   0   0   0   0   0   0   0   0 249\n",
            "  253 249  64   0   0   0   0   0   0   0]\n",
            " [  0   0   0   0   0   0   0   0   0   0   0   0   0   0  46 130 183 253\n",
            "  253 207   2   0   0   0   0   0   0   0]\n",
            " [  0   0   0   0   0   0   0   0   0   0   0   0  39 148 229 253 253 253\n",
            "  250 182   0   0   0   0   0   0   0   0]\n",
            " [  0   0   0   0   0   0   0   0   0   0  24 114 221 253 253 253 253 201\n",
            "   78   0   0   0   0   0   0   0   0   0]\n",
            " [  0   0   0   0   0   0   0   0  23  66 213 253 253 253 253 198  81   2\n",
            "    0   0   0   0   0   0   0   0   0   0]\n",
            " [  0   0   0   0   0   0  18 171 219 253 253 253 253 195  80   9   0   0\n",
            "    0   0   0   0   0   0   0   0   0   0]\n",
            " [  0   0   0   0  55 172 226 253 253 253 253 244 133  11   0   0   0   0\n",
            "    0   0   0   0   0   0   0   0   0   0]\n",
            " [  0   0   0   0 136 253 253 253 212 135 132  16   0   0   0   0   0   0\n",
            "    0   0   0   0   0   0   0   0   0   0]\n",
            " [  0   0   0   0   0   0   0   0   0   0   0   0   0   0   0   0   0   0\n",
            "    0   0   0   0   0   0   0   0   0   0]\n",
            " [  0   0   0   0   0   0   0   0   0   0   0   0   0   0   0   0   0   0\n",
            "    0   0   0   0   0   0   0   0   0   0]\n",
            " [  0   0   0   0   0   0   0   0   0   0   0   0   0   0   0   0   0   0\n",
            "    0   0   0   0   0   0   0   0   0   0]]\n"
          ],
          "name": "stdout"
        }
      ]
    },
    {
      "cell_type": "code",
      "metadata": {
        "id": "GvvRCaeqP8Rw",
        "colab_type": "code",
        "colab": {
          "base_uri": "https://localhost:8080/",
          "height": 282
        },
        "outputId": "349edc49-5e9e-43e0-a68a-eea244db178c"
      },
      "source": [
        "# Exibindo a imagem\n",
        "\n",
        "import matplotlib.pyplot as plt\n",
        "\n",
        "\"\"\"\n",
        "for indice in range(60000):\n",
        "  print(\"Essa imagem representa:\", y_treino[indice])\n",
        "  plt.imshow(x_treino[indice])\n",
        "  plt.show()\n",
        "\"\"\"\n",
        "\n",
        "indice = 15000\n",
        "\n",
        "print(\"Essa imagem representa:\", y_treino[indice])\n",
        "plt.imshow(x_treino[indice], cmap=plt.cm.binary)\n",
        "plt.show()"
      ],
      "execution_count": 4,
      "outputs": [
        {
          "output_type": "stream",
          "text": [
            "Essa imagem representa: 5\n"
          ],
          "name": "stdout"
        },
        {
          "output_type": "display_data",
          "data": {
            "image/png": "[encoded data removed]",
            "text/plain": [
              "<Figure size 432x288 with 1 Axes>"
            ]
          },
          "metadata": {
            "tags": [],
            "needs_background": "light"
          }
        }
      ]
    },
    {
      "cell_type": "code",
      "metadata": {
        "id": "ALlH1LXDRCFf",
        "colab_type": "code",
        "colab": {}
      },
      "source": [
        "# Achatando as matrizes de pixels e transformando em uma única lista\n",
        "\n",
        "quantidade_treino = len(x_treino) # 60000\n",
        "quantidade_teste = len(x_teste) # 10000\n",
        "\n",
        "resolucao_imagem = x_treino[0].shape # Irá trazer (28, 28)\n",
        "resolucao_total = resolucao_imagem[0] * resolucao_imagem[1] # 28 * 28 = 784\n",
        "\n",
        "x_treino = x_treino.reshape(quantidade_treino, resolucao_total)\n",
        "x_teste = x_teste.reshape(quantidade_teste, resolucao_total)"
      ],
      "execution_count": 5,
      "outputs": []
    },
    {
      "cell_type": "code",
      "metadata": {
        "id": "SDGh_wdsT3Dx",
        "colab_type": "code",
        "colab": {
          "base_uri": "https://localhost:8080/",
          "height": 52
        },
        "outputId": "c17d0dd0-9458-4104-838c-420b0a5ec556"
      },
      "source": [
        "# Normalização dos dados\n",
        "# 255 vira 1\n",
        "# 127 vira 0.5\n",
        "# 0 vira 0\n",
        "# E assim por diante\n",
        "\n",
        "# print(type(x_treino[0]))\n",
        "# print(x_treino[0])\n",
        "\n",
        "x_treino = x_treino.astype('float32')\n",
        "x_teste = x_teste.astype('float32')\n",
        "\n",
        "x_treino /= 255\n",
        "x_teste /= 255\n",
        "\n",
        "print(type(x_treino[0][350]))\n",
        "print(x_treino[0][350])"
      ],
      "execution_count": 6,
      "outputs": [
        {
          "output_type": "stream",
          "text": [
            "<class 'numpy.float32'>\n",
            "0.27450982\n"
          ],
          "name": "stdout"
        }
      ]
    },
    {
      "cell_type": "code",
      "metadata": {
        "id": "NNBTl5uwVdLj",
        "colab_type": "code",
        "colab": {}
      },
      "source": [
        "# Visualizando os dados normalizados\n",
        "\n",
        "print(\"Dados normalizados:\", x_treino[0])"
      ],
      "execution_count": null,
      "outputs": []
    },
    {
      "cell_type": "code",
      "metadata": {
        "id": "29y-kuzGWHTL",
        "colab_type": "code",
        "colab": {
          "base_uri": "https://localhost:8080/",
          "height": 86
        },
        "outputId": "3d130a1d-603a-4bc3-c2ca-512a43006583"
      },
      "source": [
        "# Camada de saída (output)\n",
        "\n",
        "valores_unicos = set(y_treino)\n",
        "quantidade_valores_unicos = len(valores_unicos)\n",
        "\n",
        "print(valores_unicos)\n",
        "print(quantidade_valores_unicos)\n",
        "\n",
        "# Transformação dos valores únicos em variáveis CATEGÓRICAS\n",
        "\n",
        "# Preço da casa, 150k, 200k, 232k -> Variável numérica\n",
        "# Tamanho da casa: 100m², 200m² -> Variável numérica\n",
        "# Tamanho da casa em categorias: casas pequenas, médias e grandes -> Variável categórica\n",
        "\n",
        "# Representação categórica de um número na rede neural\n",
        "# Número 0 -> [1, 0, 0, 0, 0, 0, 0, 0, 0, 0]\n",
        "# Número 1 -> [0, 1, 0, 0, 0, 0, 0, 0, 0, 0]\n",
        "# ...\n",
        "# Número 9 -> [0, 0, 0, 0, 0, 0, 0, 0, 0, 1]\n",
        "\n",
        "print(\"y_treino[0] antes:\", y_treino[0])\n",
        "\n",
        "y_treino = keras.utils.to_categorical(y_treino, quantidade_valores_unicos)\n",
        "y_teste = keras.utils.to_categorical(y_teste, quantidade_valores_unicos)\n",
        "\n",
        "print(\"y_treino[0] depois:\", y_treino[0])"
      ],
      "execution_count": 12,
      "outputs": [
        {
          "output_type": "stream",
          "text": [
            "{0, 1, 2, 3, 4, 5, 6, 7, 8, 9}\n",
            "10\n",
            "y_treino[0] antes: 5\n",
            "y_treino[0] depois: [0. 0. 0. 0. 0. 1. 0. 0. 0. 0.]\n"
          ],
          "name": "stdout"
        }
      ]
    },
    {
      "cell_type": "code",
      "metadata": {
        "id": "0nfU66fGa1-5",
        "colab_type": "code",
        "colab": {
          "base_uri": "https://localhost:8080/",
          "height": 328
        },
        "outputId": "a76fd61d-400a-45cf-f6f3-806ded9d141e"
      },
      "source": [
        "# Criando o modelo da rede neural\n",
        "\n",
        "model = Sequential()\n",
        "\n",
        "# Primeira hidden layer com 30 neurônios e função de ativação ReLU\n",
        "# Na primeira camada, precisamos informar o input shape, que no caso (784,)\n",
        "model.add(Dense(30, activation='relu', input_shape=(resolucao_total,)))\n",
        "\n",
        "# Adicionamos um regularizador, que ajuda a evitar o overfitting. No caso, será o Dropout\n",
        "model.add(Dropout(0.2))\n",
        "\n",
        "# Segunda hidden layer com 20 neurônios e função ativação ReLU\n",
        "model.add(Dense(20, activation='relu'))\n",
        "\n",
        "# Mais uma regularizador depois da segunda hidden layer\n",
        "model.add(Dropout(0.2))\n",
        "\n",
        "# Finalizamos com a camada de saída (output), informando a quantidade de valores únicos\n",
        "model.add(Dense(quantidade_valores_unicos, activation='softmax'))\n",
        "\n",
        "# Exibe o resumo do modelo criado\n",
        "model.summary()"
      ],
      "execution_count": 13,
      "outputs": [
        {
          "output_type": "stream",
          "text": [
            "Model: \"sequential\"\n",
            "_________________________________________________________________\n",
            "Layer (type)                 Output Shape              Param #   \n",
            "=================================================================\n",
            "dense (Dense)                (None, 30)                23550     \n",
            "_________________________________________________________________\n",
            "dropout (Dropout)            (None, 30)                0         \n",
            "_________________________________________________________________\n",
            "dense_1 (Dense)              (None, 20)                620       \n",
            "_________________________________________________________________\n",
            "dropout_1 (Dropout)          (None, 20)                0         \n",
            "_________________________________________________________________\n",
            "dense_2 (Dense)              (None, 10)                210       \n",
            "=================================================================\n",
            "Total params: 24,380\n",
            "Trainable params: 24,380\n",
            "Non-trainable params: 0\n",
            "_________________________________________________________________\n"
          ],
          "name": "stdout"
        }
      ]
    },
    {
      "cell_type": "code",
      "metadata": {
        "id": "fLAyipcNeU9M",
        "colab_type": "code",
        "colab": {}
      },
      "source": [
        "# Compila o modelo\n",
        "\n",
        "model.compile(loss='categorical_crossentropy',\n",
        "              optimizer=RMSprop(),\n",
        "              metrics=['accuracy'])"
      ],
      "execution_count": 14,
      "outputs": []
    },
    {
      "cell_type": "code",
      "metadata": {
        "id": "RETTyoFvfN1V",
        "colab_type": "code",
        "colab": {
          "base_uri": "https://localhost:8080/",
          "height": 363
        },
        "outputId": "22e6cc0e-5ca3-4c7a-fd8a-1c9e5ee2f841"
      },
      "source": [
        "# Treina o modelo\n",
        "\n",
        "history = model.fit(x_treino, y_treino,\n",
        "                    batch_size = 128,\n",
        "                    epochs=10,\n",
        "                    verbose=1,\n",
        "                    validation_data=(x_teste, y_teste))"
      ],
      "execution_count": 15,
      "outputs": [
        {
          "output_type": "stream",
          "text": [
            "Epoch 1/10\n",
            "469/469 [==============================] - 2s 4ms/step - loss: 0.8973 - accuracy: 0.7148 - val_loss: 0.3242 - val_accuracy: 0.9088\n",
            "Epoch 2/10\n",
            "469/469 [==============================] - 1s 3ms/step - loss: 0.4770 - accuracy: 0.8587 - val_loss: 0.2507 - val_accuracy: 0.9287\n",
            "Epoch 3/10\n",
            "469/469 [==============================] - 1s 2ms/step - loss: 0.3988 - accuracy: 0.8837 - val_loss: 0.2216 - val_accuracy: 0.9365\n",
            "Epoch 4/10\n",
            "469/469 [==============================] - 1s 2ms/step - loss: 0.3613 - accuracy: 0.8957 - val_loss: 0.1977 - val_accuracy: 0.9422\n",
            "Epoch 5/10\n",
            "469/469 [==============================] - 2s 3ms/step - loss: 0.3322 - accuracy: 0.9036 - val_loss: 0.1883 - val_accuracy: 0.9442\n",
            "Epoch 6/10\n",
            "469/469 [==============================] - 1s 3ms/step - loss: 0.3143 - accuracy: 0.9099 - val_loss: 0.1776 - val_accuracy: 0.9470\n",
            "Epoch 7/10\n",
            "469/469 [==============================] - 1s 3ms/step - loss: 0.3013 - accuracy: 0.9129 - val_loss: 0.1801 - val_accuracy: 0.9482\n",
            "Epoch 8/10\n",
            "469/469 [==============================] - 1s 3ms/step - loss: 0.2875 - accuracy: 0.9172 - val_loss: 0.1745 - val_accuracy: 0.9501\n",
            "Epoch 9/10\n",
            "469/469 [==============================] - 2s 4ms/step - loss: 0.2781 - accuracy: 0.9197 - val_loss: 0.1705 - val_accuracy: 0.9511\n",
            "Epoch 10/10\n",
            "469/469 [==============================] - 2s 4ms/step - loss: 0.2697 - accuracy: 0.9222 - val_loss: 0.1684 - val_accuracy: 0.9527\n"
          ],
          "name": "stdout"
        }
      ]
    },
    {
      "cell_type": "code",
      "metadata": {
        "id": "WKoD9RGihMZK",
        "colab_type": "code",
        "colab": {
          "base_uri": "https://localhost:8080/",
          "height": 368
        },
        "outputId": "aadea8c9-f518-4b6d-f238-2602505d875d"
      },
      "source": [
        "# Fazendo nossas previsões\n",
        "\n",
        "indice = 9000\n",
        "\n",
        "# Qual é o valor categórico em y_teste[indice]?\n",
        "print(\"Valor categórico em y_teste[indice]:\", y_teste[indice])\n",
        "\n",
        "# Se for um 7, irá exibir [0. 0. 0. 0. 0. 0. 0. 1. 0. 0.]\n",
        "\n",
        "# print(x_teste[indice])\n",
        "\n",
        "imagem = x_teste[indice].reshape((1, resolucao_total))\n",
        "\n",
        "# print(imagem)\n",
        "\n",
        "# Fazendo a previsão\n",
        "\n",
        "prediction = model.predict(imagem)\n",
        "print(\"Previsão:\", prediction)\n",
        "\n",
        "#prediction_class = model.predict_classes(imagem)\n",
        "\n",
        "import numpy as np\n",
        "\n",
        "prediction_class = np.argmax(model.predict(imagem), axis=-1)\n",
        "print(\"Previsão ajustada:\", prediction_class)\n",
        "\n",
        "# Apenas para visualizar a imagem\n",
        "(x_treino_img, y_treino_img), (x_teste_img, y_teste_img) = mnist.load_data()\n",
        "plt.imshow(x_teste_img[indice], cmap=plt.cm.binary)"
      ],
      "execution_count": 27,
      "outputs": [
        {
          "output_type": "stream",
          "text": [
            "Valor categórico em y_teste[indice]: [0. 0. 0. 0. 0. 0. 0. 1. 0. 0.]\n",
            "Previsão: [[1.23946114e-13 5.80246246e-13 2.69746607e-08 1.01731565e-08\n",
            "  5.16889786e-12 4.50050343e-13 3.45011702e-20 9.99999642e-01\n",
            "  4.10197558e-14 3.96145964e-07]]\n",
            "Previsão ajustada: [7]\n"
          ],
          "name": "stdout"
        },
        {
          "output_type": "execute_result",
          "data": {
            "text/plain": [
              "<matplotlib.image.AxesImage at 0x7f9fcb32dd68>"
            ]
          },
          "metadata": {
            "tags": []
          },
          "execution_count": 27
        },
        {
          "output_type": "display_data",
          "data": {
            "image/png": "[encoded data removed]",
            "text/plain": [
              "<Figure size 432x288 with 1 Axes>"
            ]
          },
          "metadata": {
            "tags": [],
            "needs_background": "light"
          }
        }
      ]
    },
    {
      "cell_type": "code",
      "metadata": {
        "id": "UnrGXtc0kJlM",
        "colab_type": "code",
        "colab": {}
      },
      "source": [
        ""
      ],
      "execution_count": null,
      "outputs": []
    },
    {
      "cell_type": "code",
      "metadata": {
        "colab_type": "code",
        "id": "pFxOzcObkJ3B",
        "colab": {
          "base_uri": "https://localhost:8080/",
          "height": 772
        },
        "outputId": "076ecaeb-028f-44e8-a221-84246f2059f4"
      },
      "source": [
        "# Fazendo nossas previsões\n",
        "\n",
        "while True:\n",
        "  print(\"Digite um índice entre 0 e 10000\")\n",
        "  indice = int(input())\n",
        "\n",
        "  if indice == -1:\n",
        "    break\n",
        "\n",
        "  # Qual é o valor categórico em y_teste[indice]?\n",
        "  print(\"Valor categórico em y_teste[indice]:\", y_teste[indice])\n",
        "\n",
        "  # Se for um 7, irá exibir [0. 0. 0. 0. 0. 0. 0. 1. 0. 0.]\n",
        "\n",
        "  # print(x_teste[indice])\n",
        "\n",
        "  imagem = x_teste[indice].reshape((1, resolucao_total))\n",
        "\n",
        "  # print(imagem)\n",
        "\n",
        "  # Fazendo a previsão\n",
        "\n",
        "  prediction = model.predict(imagem)\n",
        "  print(\"Previsão:\", prediction)\n",
        "\n",
        "  #prediction_class = model.predict_classes(imagem)\n",
        "\n",
        "  import numpy as np\n",
        "\n",
        "  prediction_class = np.argmax(model.predict(imagem), axis=-1)\n",
        "  print(\"Previsão ajustada:\", prediction_class)\n",
        "\n",
        "  # Apenas para visualizar a imagem\n",
        "  (x_treino_img, y_treino_img), (x_teste_img, y_teste_img) = mnist.load_data()\n",
        "  plt.imshow(x_teste_img[indice], cmap=plt.cm.binary)\n",
        "  plt.show()"
      ],
      "execution_count": 38,
      "outputs": [
        {
          "output_type": "stream",
          "text": [
            "Digite um índice entre 0 e 10000\n",
            "0\n",
            "Valor categórico em y_teste[indice]: [0. 0. 0. 0. 0. 0. 0. 1. 0. 0.]\n",
            "Previsão: [[2.98028469e-09 1.00464248e-09 5.23856806e-06 2.83249801e-06\n",
            "  4.15688239e-09 1.83042159e-09 1.97836759e-14 9.99982357e-01\n",
            "  1.03392434e-10 9.56047461e-06]]\n",
            "Previsão ajustada: [7]\n"
          ],
          "name": "stdout"
        },
        {
          "output_type": "display_data",
          "data": {
            "image/png": "[encoded data removed]",
            "text/plain": [
              "<Figure size 432x288 with 1 Axes>"
            ]
          },
          "metadata": {
            "tags": [],
            "needs_background": "light"
          }
        },
        {
          "output_type": "stream",
          "text": [
            "Digite um índice entre 0 e 10000\n",
            "1\n",
            "Valor categórico em y_teste[indice]: [0. 0. 1. 0. 0. 0. 0. 0. 0. 0.]\n",
            "Previsão: [[1.0036728e-07 2.3942590e-05 9.9930775e-01 6.6434458e-04 4.2725076e-13\n",
            "  3.0047121e-07 1.9429920e-06 1.5467596e-07 1.4401753e-06 6.2541425e-19]]\n",
            "Previsão ajustada: [2]\n"
          ],
          "name": "stdout"
        },
        {
          "output_type": "display_data",
          "data": {
            "image/png": "[encoded data removed]",
            "text/plain": [
              "<Figure size 432x288 with 1 Axes>"
            ]
          },
          "metadata": {
            "tags": [],
            "needs_background": "light"
          }
        },
        {
          "output_type": "stream",
          "text": [
            "Digite um índice entre 0 e 10000\n",
            "-1\n"
          ],
          "name": "stdout"
        }
      ]
    }
  ]
}