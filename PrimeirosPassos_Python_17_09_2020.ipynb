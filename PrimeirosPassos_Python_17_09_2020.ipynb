{
  "nbformat": 4,
  "nbformat_minor": 0,
  "metadata": {
    "colab": {
      "name": "PrimeirosPassos_Python_17_09_2020.ipynb",
      "provenance": [],
      "collapsed_sections": []
    },
    "kernelspec": {
      "name": "python3",
      "display_name": "Python 3"
    }
  },
  "cells": [
    {
      "cell_type": "code",
      "metadata": {
        "id": "BLSrj6FEBctx",
        "colab_type": "code",
        "colab": {}
      },
      "source": [
        "import keras"
      ],
      "execution_count": 1,
      "outputs": []
    },
    {
      "cell_type": "code",
      "metadata": {
        "id": "sB4Yv3lzGJ3i",
        "colab_type": "code",
        "colab": {}
      },
      "source": [
        "numero = 9"
      ],
      "execution_count": 2,
      "outputs": []
    },
    {
      "cell_type": "code",
      "metadata": {
        "id": "EjAPsGrwGFS-",
        "colab_type": "code",
        "colab": {
          "base_uri": "https://localhost:8080/",
          "height": 34
        },
        "outputId": "6be77395-f0c7-463a-c599-be13e4336bd8"
      },
      "source": [
        "# Exibir informação na tela\n",
        "numero = numero + 1\n",
        "print(numero)"
      ],
      "execution_count": 4,
      "outputs": [
        {
          "output_type": "stream",
          "text": [
            "11\n"
          ],
          "name": "stdout"
        }
      ]
    },
    {
      "cell_type": "code",
      "metadata": {
        "id": "G_u6UUVYHA_J",
        "colab_type": "code",
        "colab": {
          "base_uri": "https://localhost:8080/",
          "height": 158
        },
        "outputId": "86dc2785-6102-4661-fc29-5632ae635b85"
      },
      "source": [
        "nome = \"Paulo\" # String ou str\n",
        "numero_inteiro = 2 # Integer ou int\n",
        "numero_decimal = 2.5 # Float\n",
        "solteiro = True # Boolean ou bool\n",
        "\n",
        "print(nome)\n",
        "print(numero_inteiro)\n",
        "print(numero_decimal)\n",
        "print(solteiro)\n",
        "\n",
        "print(type(nome))\n",
        "print(type(numero_inteiro))\n",
        "print(type(numero_decimal))\n",
        "print(type(solteiro))"
      ],
      "execution_count": 10,
      "outputs": [
        {
          "output_type": "stream",
          "text": [
            "Paulo\n",
            "2\n",
            "2.5\n",
            "True\n",
            "<class 'str'>\n",
            "<class 'int'>\n",
            "<class 'float'>\n",
            "<class 'bool'>\n"
          ],
          "name": "stdout"
        }
      ]
    },
    {
      "cell_type": "code",
      "metadata": {
        "id": "DAAaZ4OmHlsy",
        "colab_type": "code",
        "colab": {
          "base_uri": "https://localhost:8080/",
          "height": 175
        },
        "outputId": "d42b66a8-7259-4e61-fa07-7f862604a9da"
      },
      "source": [
        "lista = [5, 10, 9, 20, 94, 34, 74, 14, 91, 12, 44, 57] # Lista ou list\n",
        "\n",
        "print(lista)\n",
        "print(type(lista))\n",
        "\n",
        "# Manipulação\n",
        "\n",
        "primeiro_elemento = lista[0]\n",
        "print(primeiro_elemento)\n",
        "print(type(primeiro_elemento))\n",
        "\n",
        "quantidade_elementos = len(lista)\n",
        "ultimo_elemento = lista[quantidade_elementos - 1]\n",
        "print(ultimo_elemento)\n",
        "print(type(ultimo_elemento))\n",
        "\n",
        "ultimo_elemento2 = lista[-1]\n",
        "print(ultimo_elemento2)\n",
        "\n",
        "# Atribuir outros valores na lista\n",
        "print(lista)\n",
        "lista[0] = 20\n",
        "print(lista)"
      ],
      "execution_count": 21,
      "outputs": [
        {
          "output_type": "stream",
          "text": [
            "[5, 10, 9, 20, 94, 34, 74, 14, 91, 12, 44, 57]\n",
            "<class 'list'>\n",
            "5\n",
            "<class 'int'>\n",
            "57\n",
            "<class 'int'>\n",
            "57\n",
            "[5, 10, 9, 20, 94, 34, 74, 14, 91, 12, 44, 57]\n",
            "[20, 10, 9, 20, 94, 34, 74, 14, 91, 12, 44, 57]\n"
          ],
          "name": "stdout"
        }
      ]
    },
    {
      "cell_type": "code",
      "metadata": {
        "id": "neqmClAEHp9A",
        "colab_type": "code",
        "colab": {
          "base_uri": "https://localhost:8080/",
          "height": 105
        },
        "outputId": "2c4dfa88-5f8b-4fb9-9abb-a5c1e01a5945"
      },
      "source": [
        "tupla = 9, 20, 12, 49 # Tupla ou tuple\n",
        "tupla2 = (9, 20, 12, 49) # Parenteses são opcionais, mas é interessante colocar pra melhorar e leitura do código\n",
        "print(tupla)\n",
        "print(type(tupla))\n",
        "\n",
        "primeiro_elemento = tupla[0]\n",
        "print(primeiro_elemento)\n",
        "\n",
        "print(1, 2)\n",
        "print((1, 2))"
      ],
      "execution_count": 29,
      "outputs": [
        {
          "output_type": "stream",
          "text": [
            "(9, 20, 12, 49)\n",
            "<class 'tuple'>\n",
            "9\n",
            "1 2\n",
            "(1, 2)\n"
          ],
          "name": "stdout"
        }
      ]
    },
    {
      "cell_type": "code",
      "metadata": {
        "id": "dzYygbPtJ-fY",
        "colab_type": "code",
        "colab": {
          "base_uri": "https://localhost:8080/",
          "height": 87
        },
        "outputId": "0ae3c9a2-dba1-43fc-b39d-5c2a0a98539a"
      },
      "source": [
        "# Elementos únicos em uma lista\n",
        "\n",
        "numeros = [10, 20, 70, 10, 60, 50, 20, 99, 87, 70]\n",
        "\n",
        "print(numeros)\n",
        "print(len(numeros))\n",
        "\n",
        "print(set(numeros))\n",
        "print(len(set(numeros)))"
      ],
      "execution_count": 33,
      "outputs": [
        {
          "output_type": "stream",
          "text": [
            "[10, 20, 70, 10, 60, 50, 20, 99, 87, 70]\n",
            "10\n",
            "{99, 70, 10, 50, 20, 87, 60}\n",
            "7\n"
          ],
          "name": "stdout"
        }
      ]
    }
  ]
}