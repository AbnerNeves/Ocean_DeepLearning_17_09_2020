{
  "nbformat": 4,
  "nbformat_minor": 0,
  "metadata": {
    "colab": {
      "name": "ResNet50_Exemplo.ipynb",
      "provenance": []
    },
    "kernelspec": {
      "name": "python3",
      "display_name": "Python 3"
    }
  },
  "cells": [
    {
      "cell_type": "code",
      "metadata": {
        "id": "EK_V4SammSP2",
        "colab_type": "code",
        "colab": {
          "base_uri": "https://localhost:8080/",
          "height": 72
        },
        "outputId": "30708fd0-10ec-4c66-b73f-b2d841fc09af"
      },
      "source": [
        "from keras.applications.resnet50 import ResNet50\n",
        "from keras.preprocessing import image\n",
        "from keras.applications.resnet50 import preprocess_input, decode_predictions\n",
        "import numpy as np\n",
        "\n",
        "model = ResNet50(weights='imagenet')"
      ],
      "execution_count": 1,
      "outputs": [
        {
          "output_type": "stream",
          "text": [
            "Downloading data from https://storage.googleapis.com/tensorflow/keras-applications/resnet/resnet50_weights_tf_dim_ordering_tf_kernels.h5\n",
            "102973440/102967424 [==============================] - 1s 0us/step\n"
          ],
          "name": "stdout"
        }
      ]
    },
    {
      "cell_type": "code",
      "metadata": {
        "id": "sVTdw_bPm9fQ",
        "colab_type": "code",
        "colab": {
          "base_uri": "https://localhost:8080/",
          "height": 54
        },
        "outputId": "90d68b64-9e04-4c3c-c984-2f2a2525a6dd"
      },
      "source": [
        "img_path = 'moto3.png'\n",
        "\n",
        "img = image.load_img(img_path, target_size=(224, 224))\n",
        "x = image.img_to_array(img)\n",
        "x = np.expand_dims(x, axis=0)\n",
        "x = preprocess_input(x)\n",
        "\n",
        "predictions = model.predict(x)\n",
        "\n",
        "print(\"Previsão:\", decode_predictions(predictions, top=10))"
      ],
      "execution_count": 4,
      "outputs": [
        {
          "output_type": "stream",
          "text": [
            "Previsão: [[('n03785016', 'moped', 0.46874762), ('n03208938', 'disk_brake', 0.16678537), ('n02769748', 'backpack', 0.15013427), ('n03792782', 'mountain_bike', 0.07015671), ('n03127747', 'crash_helmet', 0.05377466), ('n03791053', 'motor_scooter', 0.036014907), ('n02835271', 'bicycle-built-for-two', 0.016398093), ('n04482393', 'tricycle', 0.0056615593), ('n03814639', 'neck_brace', 0.003348608), ('n04235860', 'sleeping_bag', 0.0025822949)]]\n"
          ],
          "name": "stdout"
        }
      ]
    }
  ]
}